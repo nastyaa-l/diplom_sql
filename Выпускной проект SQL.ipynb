{
 "cells": [
  {
   "cell_type": "markdown",
   "id": "4b71bf7f",
   "metadata": {},
   "source": [
    "### Цели исследования"
   ]
  },
  {
   "cell_type": "markdown",
   "id": "3140b1b7",
   "metadata": {},
   "source": [
    "Проанализировать базу данных. В ней — информация о книгах, издательствах, авторах, а также пользовательские обзоры книг. Эти данные помогут сформулировать ценностное предложение для нового продукта."
   ]
  },
  {
   "cell_type": "markdown",
   "id": "70bff4ca",
   "metadata": {},
   "source": [
    "### Шаг 1. Загрузка данных"
   ]
  },
  {
   "cell_type": "code",
   "execution_count": 1,
   "id": "a006b9f3",
   "metadata": {},
   "outputs": [],
   "source": [
    "import pandas as pd\n",
    "import sqlalchemy as sa"
   ]
  },
  {
   "cell_type": "code",
   "execution_count": 2,
   "id": "141c0105",
   "metadata": {},
   "outputs": [],
   "source": [
    "db_config = {\n",
    "'user': 'praktikum_student', # имя пользователя\n",
    "'pwd': 'Sdf4$2;d-d30pp', # пароль\n",
    "'host': 'rc1b-wcoijxj3yxfsf3fs.mdb.yandexcloud.net',\n",
    "'port': 6432, # порт подключения\n",
    "'db': 'data-analyst-final-project-db' # название базы данных\n",
    "}\n",
    "connection_string = 'postgresql://{user}:{pwd}@{host}:{port}/{db}'.format(**db_config)"
   ]
  },
  {
   "cell_type": "code",
   "execution_count": 3,
   "id": "0b8c2a7c",
   "metadata": {},
   "outputs": [],
   "source": [
    "# сохраняем коннектор\n",
    "engine = sa.create_engine(connection_string, connect_args={'sslmode':'require'})"
   ]
  },
  {
   "cell_type": "code",
   "execution_count": 4,
   "id": "5d30496c",
   "metadata": {},
   "outputs": [],
   "source": [
    "# чтобы выполнить SQL-запрос, пишем функцию с использованием Pandas\n",
    "def get_sql_data(query:str, engine:sa.engine.base.Engine=engine) -> pd.DataFrame:\n",
    "    '''Открываем соединение, получаем данные из sql, закрываем соединение'''\n",
    "    with engine.connect() as con:\n",
    "        return pd.read_sql(sql=sa.text(query), con = con)"
   ]
  },
  {
   "cell_type": "markdown",
   "id": "704d480a",
   "metadata": {},
   "source": [
    "### Шаг 2. Общая информация о данных."
   ]
  },
  {
   "cell_type": "markdown",
   "id": "cf690fa6",
   "metadata": {},
   "source": [
    "Выведем первые строки в каждой таблице и посчитаем сколкьо всего строк."
   ]
  },
  {
   "cell_type": "code",
   "execution_count": 5,
   "id": "111208c4",
   "metadata": {
    "scrolled": true
   },
   "outputs": [
    {
     "data": {
      "text/html": [
       "<div>\n",
       "<style scoped>\n",
       "    .dataframe tbody tr th:only-of-type {\n",
       "        vertical-align: middle;\n",
       "    }\n",
       "\n",
       "    .dataframe tbody tr th {\n",
       "        vertical-align: top;\n",
       "    }\n",
       "\n",
       "    .dataframe thead th {\n",
       "        text-align: right;\n",
       "    }\n",
       "</style>\n",
       "<table border=\"1\" class=\"dataframe\">\n",
       "  <thead>\n",
       "    <tr style=\"text-align: right;\">\n",
       "      <th></th>\n",
       "      <th>book_id</th>\n",
       "      <th>author_id</th>\n",
       "      <th>title</th>\n",
       "      <th>num_pages</th>\n",
       "      <th>publication_date</th>\n",
       "      <th>publisher_id</th>\n",
       "    </tr>\n",
       "  </thead>\n",
       "  <tbody>\n",
       "    <tr>\n",
       "      <th>0</th>\n",
       "      <td>1</td>\n",
       "      <td>546</td>\n",
       "      <td>'Salem's Lot</td>\n",
       "      <td>594</td>\n",
       "      <td>2005-11-01</td>\n",
       "      <td>93</td>\n",
       "    </tr>\n",
       "    <tr>\n",
       "      <th>1</th>\n",
       "      <td>2</td>\n",
       "      <td>465</td>\n",
       "      <td>1 000 Places to See Before You Die</td>\n",
       "      <td>992</td>\n",
       "      <td>2003-05-22</td>\n",
       "      <td>336</td>\n",
       "    </tr>\n",
       "    <tr>\n",
       "      <th>2</th>\n",
       "      <td>3</td>\n",
       "      <td>407</td>\n",
       "      <td>13 Little Blue Envelopes (Little Blue Envelope...</td>\n",
       "      <td>322</td>\n",
       "      <td>2010-12-21</td>\n",
       "      <td>135</td>\n",
       "    </tr>\n",
       "    <tr>\n",
       "      <th>3</th>\n",
       "      <td>4</td>\n",
       "      <td>82</td>\n",
       "      <td>1491: New Revelations of the Americas Before C...</td>\n",
       "      <td>541</td>\n",
       "      <td>2006-10-10</td>\n",
       "      <td>309</td>\n",
       "    </tr>\n",
       "    <tr>\n",
       "      <th>4</th>\n",
       "      <td>5</td>\n",
       "      <td>125</td>\n",
       "      <td>1776</td>\n",
       "      <td>386</td>\n",
       "      <td>2006-07-04</td>\n",
       "      <td>268</td>\n",
       "    </tr>\n",
       "  </tbody>\n",
       "</table>\n",
       "</div>"
      ],
      "text/plain": [
       "   book_id  author_id                                              title  \\\n",
       "0        1        546                                       'Salem's Lot   \n",
       "1        2        465                 1 000 Places to See Before You Die   \n",
       "2        3        407  13 Little Blue Envelopes (Little Blue Envelope...   \n",
       "3        4         82  1491: New Revelations of the Americas Before C...   \n",
       "4        5        125                                               1776   \n",
       "\n",
       "   num_pages publication_date  publisher_id  \n",
       "0        594       2005-11-01            93  \n",
       "1        992       2003-05-22           336  \n",
       "2        322       2010-12-21           135  \n",
       "3        541       2006-10-10           309  \n",
       "4        386       2006-07-04           268  "
      ]
     },
     "execution_count": 5,
     "metadata": {},
     "output_type": "execute_result"
    }
   ],
   "source": [
    "# формируем запрос и выводим данные\n",
    "query = '''SELECT * FROM books LIMIT 5'''\n",
    "get_sql_data(query)"
   ]
  },
  {
   "cell_type": "code",
   "execution_count": 6,
   "id": "c8394aa7",
   "metadata": {
    "scrolled": true
   },
   "outputs": [
    {
     "data": {
      "text/html": [
       "<div>\n",
       "<style scoped>\n",
       "    .dataframe tbody tr th:only-of-type {\n",
       "        vertical-align: middle;\n",
       "    }\n",
       "\n",
       "    .dataframe tbody tr th {\n",
       "        vertical-align: top;\n",
       "    }\n",
       "\n",
       "    .dataframe thead th {\n",
       "        text-align: right;\n",
       "    }\n",
       "</style>\n",
       "<table border=\"1\" class=\"dataframe\">\n",
       "  <thead>\n",
       "    <tr style=\"text-align: right;\">\n",
       "      <th></th>\n",
       "      <th>count</th>\n",
       "    </tr>\n",
       "  </thead>\n",
       "  <tbody>\n",
       "    <tr>\n",
       "      <th>0</th>\n",
       "      <td>1000</td>\n",
       "    </tr>\n",
       "  </tbody>\n",
       "</table>\n",
       "</div>"
      ],
      "text/plain": [
       "   count\n",
       "0   1000"
      ]
     },
     "execution_count": 6,
     "metadata": {},
     "output_type": "execute_result"
    }
   ],
   "source": [
    "query = '''SELECT COUNT(*) \n",
    "FROM books '''\n",
    "get_sql_data(query)"
   ]
  },
  {
   "cell_type": "markdown",
   "id": "f4437671",
   "metadata": {},
   "source": [
    "Данные о книгах:\n",
    "- book_id — идентификатор книги;\n",
    "- author_id — идентификатор автора;\n",
    "- title — название книги;\n",
    "- num_pages — количество страниц;\n",
    "- publication_date — дата публикации книги;\n",
    "- publisher_id — идентификатор издателя.\n",
    "\n",
    "В таблице 1000 строк."
   ]
  },
  {
   "cell_type": "code",
   "execution_count": 7,
   "id": "d8f1e107",
   "metadata": {
    "scrolled": true
   },
   "outputs": [
    {
     "data": {
      "text/html": [
       "<div>\n",
       "<style scoped>\n",
       "    .dataframe tbody tr th:only-of-type {\n",
       "        vertical-align: middle;\n",
       "    }\n",
       "\n",
       "    .dataframe tbody tr th {\n",
       "        vertical-align: top;\n",
       "    }\n",
       "\n",
       "    .dataframe thead th {\n",
       "        text-align: right;\n",
       "    }\n",
       "</style>\n",
       "<table border=\"1\" class=\"dataframe\">\n",
       "  <thead>\n",
       "    <tr style=\"text-align: right;\">\n",
       "      <th></th>\n",
       "      <th>author_id</th>\n",
       "      <th>author</th>\n",
       "    </tr>\n",
       "  </thead>\n",
       "  <tbody>\n",
       "    <tr>\n",
       "      <th>0</th>\n",
       "      <td>1</td>\n",
       "      <td>A.S. Byatt</td>\n",
       "    </tr>\n",
       "    <tr>\n",
       "      <th>1</th>\n",
       "      <td>2</td>\n",
       "      <td>Aesop/Laura Harris/Laura Gibbs</td>\n",
       "    </tr>\n",
       "    <tr>\n",
       "      <th>2</th>\n",
       "      <td>3</td>\n",
       "      <td>Agatha Christie</td>\n",
       "    </tr>\n",
       "    <tr>\n",
       "      <th>3</th>\n",
       "      <td>4</td>\n",
       "      <td>Alan Brennert</td>\n",
       "    </tr>\n",
       "    <tr>\n",
       "      <th>4</th>\n",
       "      <td>5</td>\n",
       "      <td>Alan Moore/David   Lloyd</td>\n",
       "    </tr>\n",
       "  </tbody>\n",
       "</table>\n",
       "</div>"
      ],
      "text/plain": [
       "   author_id                          author\n",
       "0          1                      A.S. Byatt\n",
       "1          2  Aesop/Laura Harris/Laura Gibbs\n",
       "2          3                 Agatha Christie\n",
       "3          4                   Alan Brennert\n",
       "4          5        Alan Moore/David   Lloyd"
      ]
     },
     "execution_count": 7,
     "metadata": {},
     "output_type": "execute_result"
    }
   ],
   "source": [
    "query1 = '''\n",
    "SELECT * \n",
    "FROM authors \n",
    "LIMIT 5'''\n",
    "get_sql_data(query1)"
   ]
  },
  {
   "cell_type": "code",
   "execution_count": 8,
   "id": "91c537c9",
   "metadata": {},
   "outputs": [
    {
     "data": {
      "text/html": [
       "<div>\n",
       "<style scoped>\n",
       "    .dataframe tbody tr th:only-of-type {\n",
       "        vertical-align: middle;\n",
       "    }\n",
       "\n",
       "    .dataframe tbody tr th {\n",
       "        vertical-align: top;\n",
       "    }\n",
       "\n",
       "    .dataframe thead th {\n",
       "        text-align: right;\n",
       "    }\n",
       "</style>\n",
       "<table border=\"1\" class=\"dataframe\">\n",
       "  <thead>\n",
       "    <tr style=\"text-align: right;\">\n",
       "      <th></th>\n",
       "      <th>count</th>\n",
       "    </tr>\n",
       "  </thead>\n",
       "  <tbody>\n",
       "    <tr>\n",
       "      <th>0</th>\n",
       "      <td>636</td>\n",
       "    </tr>\n",
       "  </tbody>\n",
       "</table>\n",
       "</div>"
      ],
      "text/plain": [
       "   count\n",
       "0    636"
      ]
     },
     "execution_count": 8,
     "metadata": {},
     "output_type": "execute_result"
    }
   ],
   "source": [
    "query1 = '''SELECT COUNT(*) \n",
    "FROM authors '''\n",
    "get_sql_data(query1)"
   ]
  },
  {
   "cell_type": "markdown",
   "id": "6cfc25ba",
   "metadata": {},
   "source": [
    "Данные об авторах:\n",
    "- author_id — идентификатор автора;\n",
    "- author — имя автора.\n",
    "\n",
    "В таблице 636 строк"
   ]
  },
  {
   "cell_type": "code",
   "execution_count": 9,
   "id": "779d60ae",
   "metadata": {},
   "outputs": [
    {
     "data": {
      "text/html": [
       "<div>\n",
       "<style scoped>\n",
       "    .dataframe tbody tr th:only-of-type {\n",
       "        vertical-align: middle;\n",
       "    }\n",
       "\n",
       "    .dataframe tbody tr th {\n",
       "        vertical-align: top;\n",
       "    }\n",
       "\n",
       "    .dataframe thead th {\n",
       "        text-align: right;\n",
       "    }\n",
       "</style>\n",
       "<table border=\"1\" class=\"dataframe\">\n",
       "  <thead>\n",
       "    <tr style=\"text-align: right;\">\n",
       "      <th></th>\n",
       "      <th>publisher_id</th>\n",
       "      <th>publisher</th>\n",
       "    </tr>\n",
       "  </thead>\n",
       "  <tbody>\n",
       "    <tr>\n",
       "      <th>0</th>\n",
       "      <td>1</td>\n",
       "      <td>Ace</td>\n",
       "    </tr>\n",
       "    <tr>\n",
       "      <th>1</th>\n",
       "      <td>2</td>\n",
       "      <td>Ace Book</td>\n",
       "    </tr>\n",
       "    <tr>\n",
       "      <th>2</th>\n",
       "      <td>3</td>\n",
       "      <td>Ace Books</td>\n",
       "    </tr>\n",
       "    <tr>\n",
       "      <th>3</th>\n",
       "      <td>4</td>\n",
       "      <td>Ace Hardcover</td>\n",
       "    </tr>\n",
       "    <tr>\n",
       "      <th>4</th>\n",
       "      <td>5</td>\n",
       "      <td>Addison Wesley Publishing Company</td>\n",
       "    </tr>\n",
       "  </tbody>\n",
       "</table>\n",
       "</div>"
      ],
      "text/plain": [
       "   publisher_id                          publisher\n",
       "0             1                                Ace\n",
       "1             2                           Ace Book\n",
       "2             3                          Ace Books\n",
       "3             4                      Ace Hardcover\n",
       "4             5  Addison Wesley Publishing Company"
      ]
     },
     "execution_count": 9,
     "metadata": {},
     "output_type": "execute_result"
    }
   ],
   "source": [
    "query2 = '''SELECT * \n",
    "FROM publishers \n",
    "LIMIT 5'''\n",
    "get_sql_data(query2)"
   ]
  },
  {
   "cell_type": "code",
   "execution_count": 10,
   "id": "2e3dfa7d",
   "metadata": {},
   "outputs": [
    {
     "data": {
      "text/html": [
       "<div>\n",
       "<style scoped>\n",
       "    .dataframe tbody tr th:only-of-type {\n",
       "        vertical-align: middle;\n",
       "    }\n",
       "\n",
       "    .dataframe tbody tr th {\n",
       "        vertical-align: top;\n",
       "    }\n",
       "\n",
       "    .dataframe thead th {\n",
       "        text-align: right;\n",
       "    }\n",
       "</style>\n",
       "<table border=\"1\" class=\"dataframe\">\n",
       "  <thead>\n",
       "    <tr style=\"text-align: right;\">\n",
       "      <th></th>\n",
       "      <th>count</th>\n",
       "    </tr>\n",
       "  </thead>\n",
       "  <tbody>\n",
       "    <tr>\n",
       "      <th>0</th>\n",
       "      <td>340</td>\n",
       "    </tr>\n",
       "  </tbody>\n",
       "</table>\n",
       "</div>"
      ],
      "text/plain": [
       "   count\n",
       "0    340"
      ]
     },
     "execution_count": 10,
     "metadata": {},
     "output_type": "execute_result"
    }
   ],
   "source": [
    "query2 = '''SELECT COUNT(*) \n",
    "FROM publishers '''\n",
    "get_sql_data(query2)"
   ]
  },
  {
   "cell_type": "markdown",
   "id": "e85e662b",
   "metadata": {},
   "source": [
    "Данные об издательствах:\n",
    "- publisher_id — идентификатор издательства;\n",
    "- publisher — название издательства.\n",
    "\n",
    "В таблице 340 строк."
   ]
  },
  {
   "cell_type": "code",
   "execution_count": 11,
   "id": "cfb94549",
   "metadata": {
    "scrolled": true
   },
   "outputs": [
    {
     "data": {
      "text/html": [
       "<div>\n",
       "<style scoped>\n",
       "    .dataframe tbody tr th:only-of-type {\n",
       "        vertical-align: middle;\n",
       "    }\n",
       "\n",
       "    .dataframe tbody tr th {\n",
       "        vertical-align: top;\n",
       "    }\n",
       "\n",
       "    .dataframe thead th {\n",
       "        text-align: right;\n",
       "    }\n",
       "</style>\n",
       "<table border=\"1\" class=\"dataframe\">\n",
       "  <thead>\n",
       "    <tr style=\"text-align: right;\">\n",
       "      <th></th>\n",
       "      <th>rating_id</th>\n",
       "      <th>book_id</th>\n",
       "      <th>username</th>\n",
       "      <th>rating</th>\n",
       "    </tr>\n",
       "  </thead>\n",
       "  <tbody>\n",
       "    <tr>\n",
       "      <th>0</th>\n",
       "      <td>1</td>\n",
       "      <td>1</td>\n",
       "      <td>ryanfranco</td>\n",
       "      <td>4</td>\n",
       "    </tr>\n",
       "    <tr>\n",
       "      <th>1</th>\n",
       "      <td>2</td>\n",
       "      <td>1</td>\n",
       "      <td>grantpatricia</td>\n",
       "      <td>2</td>\n",
       "    </tr>\n",
       "    <tr>\n",
       "      <th>2</th>\n",
       "      <td>3</td>\n",
       "      <td>1</td>\n",
       "      <td>brandtandrea</td>\n",
       "      <td>5</td>\n",
       "    </tr>\n",
       "    <tr>\n",
       "      <th>3</th>\n",
       "      <td>4</td>\n",
       "      <td>2</td>\n",
       "      <td>lorichen</td>\n",
       "      <td>3</td>\n",
       "    </tr>\n",
       "    <tr>\n",
       "      <th>4</th>\n",
       "      <td>5</td>\n",
       "      <td>2</td>\n",
       "      <td>mariokeller</td>\n",
       "      <td>2</td>\n",
       "    </tr>\n",
       "  </tbody>\n",
       "</table>\n",
       "</div>"
      ],
      "text/plain": [
       "   rating_id  book_id       username  rating\n",
       "0          1        1     ryanfranco       4\n",
       "1          2        1  grantpatricia       2\n",
       "2          3        1   brandtandrea       5\n",
       "3          4        2       lorichen       3\n",
       "4          5        2    mariokeller       2"
      ]
     },
     "execution_count": 11,
     "metadata": {},
     "output_type": "execute_result"
    }
   ],
   "source": [
    "query3 = '''SELECT * \n",
    "FROM ratings \n",
    "LIMIT 5'''\n",
    "get_sql_data(query3)"
   ]
  },
  {
   "cell_type": "code",
   "execution_count": 12,
   "id": "46a6d486",
   "metadata": {},
   "outputs": [
    {
     "data": {
      "text/html": [
       "<div>\n",
       "<style scoped>\n",
       "    .dataframe tbody tr th:only-of-type {\n",
       "        vertical-align: middle;\n",
       "    }\n",
       "\n",
       "    .dataframe tbody tr th {\n",
       "        vertical-align: top;\n",
       "    }\n",
       "\n",
       "    .dataframe thead th {\n",
       "        text-align: right;\n",
       "    }\n",
       "</style>\n",
       "<table border=\"1\" class=\"dataframe\">\n",
       "  <thead>\n",
       "    <tr style=\"text-align: right;\">\n",
       "      <th></th>\n",
       "      <th>count</th>\n",
       "    </tr>\n",
       "  </thead>\n",
       "  <tbody>\n",
       "    <tr>\n",
       "      <th>0</th>\n",
       "      <td>6456</td>\n",
       "    </tr>\n",
       "  </tbody>\n",
       "</table>\n",
       "</div>"
      ],
      "text/plain": [
       "   count\n",
       "0   6456"
      ]
     },
     "execution_count": 12,
     "metadata": {},
     "output_type": "execute_result"
    }
   ],
   "source": [
    "query3 = '''SELECT COUNT(*) \n",
    "FROM ratings '''\n",
    "get_sql_data(query3)"
   ]
  },
  {
   "cell_type": "markdown",
   "id": "badc8b02",
   "metadata": {},
   "source": [
    "Данные о пользовательских оценках книг:\n",
    "- rating_id — идентификатор оценки;\n",
    "- book_id — идентификатор книги;\n",
    "- username — имя пользователя, оставившего оценку;\n",
    "- rating — оценка книги.\n",
    "\n",
    "В таблице 6456 строк."
   ]
  },
  {
   "cell_type": "code",
   "execution_count": 13,
   "id": "1590f40e",
   "metadata": {},
   "outputs": [
    {
     "data": {
      "text/html": [
       "<div>\n",
       "<style scoped>\n",
       "    .dataframe tbody tr th:only-of-type {\n",
       "        vertical-align: middle;\n",
       "    }\n",
       "\n",
       "    .dataframe tbody tr th {\n",
       "        vertical-align: top;\n",
       "    }\n",
       "\n",
       "    .dataframe thead th {\n",
       "        text-align: right;\n",
       "    }\n",
       "</style>\n",
       "<table border=\"1\" class=\"dataframe\">\n",
       "  <thead>\n",
       "    <tr style=\"text-align: right;\">\n",
       "      <th></th>\n",
       "      <th>review_id</th>\n",
       "      <th>book_id</th>\n",
       "      <th>username</th>\n",
       "      <th>text</th>\n",
       "    </tr>\n",
       "  </thead>\n",
       "  <tbody>\n",
       "    <tr>\n",
       "      <th>0</th>\n",
       "      <td>1</td>\n",
       "      <td>1</td>\n",
       "      <td>brandtandrea</td>\n",
       "      <td>Mention society tell send professor analysis. ...</td>\n",
       "    </tr>\n",
       "    <tr>\n",
       "      <th>1</th>\n",
       "      <td>2</td>\n",
       "      <td>1</td>\n",
       "      <td>ryanfranco</td>\n",
       "      <td>Foot glass pretty audience hit themselves. Amo...</td>\n",
       "    </tr>\n",
       "    <tr>\n",
       "      <th>2</th>\n",
       "      <td>3</td>\n",
       "      <td>2</td>\n",
       "      <td>lorichen</td>\n",
       "      <td>Listen treat keep worry. Miss husband tax but ...</td>\n",
       "    </tr>\n",
       "    <tr>\n",
       "      <th>3</th>\n",
       "      <td>4</td>\n",
       "      <td>3</td>\n",
       "      <td>johnsonamanda</td>\n",
       "      <td>Finally month interesting blue could nature cu...</td>\n",
       "    </tr>\n",
       "    <tr>\n",
       "      <th>4</th>\n",
       "      <td>5</td>\n",
       "      <td>3</td>\n",
       "      <td>scotttamara</td>\n",
       "      <td>Nation purpose heavy give wait song will. List...</td>\n",
       "    </tr>\n",
       "  </tbody>\n",
       "</table>\n",
       "</div>"
      ],
      "text/plain": [
       "   review_id  book_id       username  \\\n",
       "0          1        1   brandtandrea   \n",
       "1          2        1     ryanfranco   \n",
       "2          3        2       lorichen   \n",
       "3          4        3  johnsonamanda   \n",
       "4          5        3    scotttamara   \n",
       "\n",
       "                                                text  \n",
       "0  Mention society tell send professor analysis. ...  \n",
       "1  Foot glass pretty audience hit themselves. Amo...  \n",
       "2  Listen treat keep worry. Miss husband tax but ...  \n",
       "3  Finally month interesting blue could nature cu...  \n",
       "4  Nation purpose heavy give wait song will. List...  "
      ]
     },
     "execution_count": 13,
     "metadata": {},
     "output_type": "execute_result"
    }
   ],
   "source": [
    "query4 = '''SELECT * \n",
    "FROM reviews \n",
    "LIMIT 5'''\n",
    "get_sql_data(query4)"
   ]
  },
  {
   "cell_type": "code",
   "execution_count": 14,
   "id": "c5075171",
   "metadata": {},
   "outputs": [
    {
     "data": {
      "text/html": [
       "<div>\n",
       "<style scoped>\n",
       "    .dataframe tbody tr th:only-of-type {\n",
       "        vertical-align: middle;\n",
       "    }\n",
       "\n",
       "    .dataframe tbody tr th {\n",
       "        vertical-align: top;\n",
       "    }\n",
       "\n",
       "    .dataframe thead th {\n",
       "        text-align: right;\n",
       "    }\n",
       "</style>\n",
       "<table border=\"1\" class=\"dataframe\">\n",
       "  <thead>\n",
       "    <tr style=\"text-align: right;\">\n",
       "      <th></th>\n",
       "      <th>count</th>\n",
       "    </tr>\n",
       "  </thead>\n",
       "  <tbody>\n",
       "    <tr>\n",
       "      <th>0</th>\n",
       "      <td>2793</td>\n",
       "    </tr>\n",
       "  </tbody>\n",
       "</table>\n",
       "</div>"
      ],
      "text/plain": [
       "   count\n",
       "0   2793"
      ]
     },
     "execution_count": 14,
     "metadata": {},
     "output_type": "execute_result"
    }
   ],
   "source": [
    "query4 = '''SELECT COUNT(*) \n",
    "FROM reviews '''\n",
    "get_sql_data(query4)"
   ]
  },
  {
   "cell_type": "markdown",
   "id": "02814d31",
   "metadata": {},
   "source": [
    "Данные о пользовательских обзорах на книги:\n",
    "- review_id — идентификатор обзора;\n",
    "- book_id — идентификатор книги;\n",
    "- username — имя пользователя, написавшего обзор;\n",
    "- text — текст обзора.\n",
    "\n",
    "В таблице 2793 строки."
   ]
  },
  {
   "cell_type": "markdown",
   "id": "94b1bc18",
   "metadata": {},
   "source": [
    "### Шаг 3. Исследовательский анализ."
   ]
  },
  {
   "cell_type": "markdown",
   "id": "636fb77a",
   "metadata": {},
   "source": [
    "Посчитаем, сколько книг вышло после 1 января 2000 года."
   ]
  },
  {
   "cell_type": "code",
   "execution_count": 15,
   "id": "f58cc62b",
   "metadata": {},
   "outputs": [],
   "source": [
    "query5 = '''\n",
    "SELECT COUNT(*)\n",
    "FROM books\n",
    "WHERE publication_date > '2000-01-01'\n",
    "'''"
   ]
  },
  {
   "cell_type": "code",
   "execution_count": 16,
   "id": "845fcbe3",
   "metadata": {},
   "outputs": [
    {
     "data": {
      "text/html": [
       "<div>\n",
       "<style scoped>\n",
       "    .dataframe tbody tr th:only-of-type {\n",
       "        vertical-align: middle;\n",
       "    }\n",
       "\n",
       "    .dataframe tbody tr th {\n",
       "        vertical-align: top;\n",
       "    }\n",
       "\n",
       "    .dataframe thead th {\n",
       "        text-align: right;\n",
       "    }\n",
       "</style>\n",
       "<table border=\"1\" class=\"dataframe\">\n",
       "  <thead>\n",
       "    <tr style=\"text-align: right;\">\n",
       "      <th></th>\n",
       "      <th>count</th>\n",
       "    </tr>\n",
       "  </thead>\n",
       "  <tbody>\n",
       "    <tr>\n",
       "      <th>0</th>\n",
       "      <td>819</td>\n",
       "    </tr>\n",
       "  </tbody>\n",
       "</table>\n",
       "</div>"
      ],
      "text/plain": [
       "   count\n",
       "0    819"
      ]
     },
     "execution_count": 16,
     "metadata": {},
     "output_type": "execute_result"
    }
   ],
   "source": [
    "get_sql_data(query5)"
   ]
  },
  {
   "cell_type": "markdown",
   "id": "0c735dca",
   "metadata": {},
   "source": [
    "После 1 января 2000 года вышло 819 книг."
   ]
  },
  {
   "cell_type": "markdown",
   "id": "5623ab1b",
   "metadata": {},
   "source": [
    "Для каждой книги посчитаем количество обзоров и среднюю оценку."
   ]
  },
  {
   "cell_type": "code",
   "execution_count": 17,
   "id": "56a77dd4",
   "metadata": {},
   "outputs": [],
   "source": [
    "query6 = ''' WITH s3 AS\n",
    "(WITH s1 AS (SELECT book_id, \n",
    "COUNT(review_id) AS review_count\n",
    "FROM reviews\n",
    "GROUP BY book_id),\n",
    "s2 AS (SELECT book_id,\n",
    "ROUND(AVG(rating), 2) AS avg_rating\n",
    "FROM ratings\n",
    "GROUP BY book_id)\n",
    "\n",
    "SELECT s2.book_id,\n",
    "s1.review_count,\n",
    "s2.avg_rating\n",
    "\n",
    "FROM \n",
    "s1 FULL JOIN s2 ON s1.book_id = s2.book_id\n",
    "ORDER BY s2.book_id)\n",
    "\n",
    "SELECT s3.book_id,\n",
    "b.title,\n",
    "s3.review_count,\n",
    "s3.avg_rating\n",
    "FROM s3 JOIN books AS b ON s3.book_id = b.book_id\n",
    "'''"
   ]
  },
  {
   "cell_type": "code",
   "execution_count": 18,
   "id": "9ea57b98",
   "metadata": {},
   "outputs": [
    {
     "data": {
      "text/html": [
       "<div>\n",
       "<style scoped>\n",
       "    .dataframe tbody tr th:only-of-type {\n",
       "        vertical-align: middle;\n",
       "    }\n",
       "\n",
       "    .dataframe tbody tr th {\n",
       "        vertical-align: top;\n",
       "    }\n",
       "\n",
       "    .dataframe thead th {\n",
       "        text-align: right;\n",
       "    }\n",
       "</style>\n",
       "<table border=\"1\" class=\"dataframe\">\n",
       "  <thead>\n",
       "    <tr style=\"text-align: right;\">\n",
       "      <th></th>\n",
       "      <th>book_id</th>\n",
       "      <th>title</th>\n",
       "      <th>review_count</th>\n",
       "      <th>avg_rating</th>\n",
       "    </tr>\n",
       "  </thead>\n",
       "  <tbody>\n",
       "    <tr>\n",
       "      <th>0</th>\n",
       "      <td>1</td>\n",
       "      <td>'Salem's Lot</td>\n",
       "      <td>2.0</td>\n",
       "      <td>3.67</td>\n",
       "    </tr>\n",
       "    <tr>\n",
       "      <th>1</th>\n",
       "      <td>2</td>\n",
       "      <td>1 000 Places to See Before You Die</td>\n",
       "      <td>1.0</td>\n",
       "      <td>2.50</td>\n",
       "    </tr>\n",
       "    <tr>\n",
       "      <th>2</th>\n",
       "      <td>3</td>\n",
       "      <td>13 Little Blue Envelopes (Little Blue Envelope...</td>\n",
       "      <td>3.0</td>\n",
       "      <td>4.67</td>\n",
       "    </tr>\n",
       "    <tr>\n",
       "      <th>3</th>\n",
       "      <td>4</td>\n",
       "      <td>1491: New Revelations of the Americas Before C...</td>\n",
       "      <td>2.0</td>\n",
       "      <td>4.50</td>\n",
       "    </tr>\n",
       "    <tr>\n",
       "      <th>4</th>\n",
       "      <td>5</td>\n",
       "      <td>1776</td>\n",
       "      <td>4.0</td>\n",
       "      <td>4.00</td>\n",
       "    </tr>\n",
       "    <tr>\n",
       "      <th>...</th>\n",
       "      <td>...</td>\n",
       "      <td>...</td>\n",
       "      <td>...</td>\n",
       "      <td>...</td>\n",
       "    </tr>\n",
       "    <tr>\n",
       "      <th>995</th>\n",
       "      <td>996</td>\n",
       "      <td>Wyrd Sisters (Discworld  #6; Witches #2)</td>\n",
       "      <td>3.0</td>\n",
       "      <td>3.67</td>\n",
       "    </tr>\n",
       "    <tr>\n",
       "      <th>996</th>\n",
       "      <td>997</td>\n",
       "      <td>Xenocide (Ender's Saga  #3)</td>\n",
       "      <td>3.0</td>\n",
       "      <td>3.40</td>\n",
       "    </tr>\n",
       "    <tr>\n",
       "      <th>997</th>\n",
       "      <td>998</td>\n",
       "      <td>Year of Wonders</td>\n",
       "      <td>4.0</td>\n",
       "      <td>3.20</td>\n",
       "    </tr>\n",
       "    <tr>\n",
       "      <th>998</th>\n",
       "      <td>999</td>\n",
       "      <td>You Suck (A Love Story  #2)</td>\n",
       "      <td>2.0</td>\n",
       "      <td>4.50</td>\n",
       "    </tr>\n",
       "    <tr>\n",
       "      <th>999</th>\n",
       "      <td>1000</td>\n",
       "      <td>Zen and the Art of Motorcycle Maintenance: An ...</td>\n",
       "      <td>4.0</td>\n",
       "      <td>3.83</td>\n",
       "    </tr>\n",
       "  </tbody>\n",
       "</table>\n",
       "<p>1000 rows × 4 columns</p>\n",
       "</div>"
      ],
      "text/plain": [
       "     book_id                                              title  review_count  \\\n",
       "0          1                                       'Salem's Lot           2.0   \n",
       "1          2                 1 000 Places to See Before You Die           1.0   \n",
       "2          3  13 Little Blue Envelopes (Little Blue Envelope...           3.0   \n",
       "3          4  1491: New Revelations of the Americas Before C...           2.0   \n",
       "4          5                                               1776           4.0   \n",
       "..       ...                                                ...           ...   \n",
       "995      996           Wyrd Sisters (Discworld  #6; Witches #2)           3.0   \n",
       "996      997                        Xenocide (Ender's Saga  #3)           3.0   \n",
       "997      998                                    Year of Wonders           4.0   \n",
       "998      999                        You Suck (A Love Story  #2)           2.0   \n",
       "999     1000  Zen and the Art of Motorcycle Maintenance: An ...           4.0   \n",
       "\n",
       "     avg_rating  \n",
       "0          3.67  \n",
       "1          2.50  \n",
       "2          4.67  \n",
       "3          4.50  \n",
       "4          4.00  \n",
       "..          ...  \n",
       "995        3.67  \n",
       "996        3.40  \n",
       "997        3.20  \n",
       "998        4.50  \n",
       "999        3.83  \n",
       "\n",
       "[1000 rows x 4 columns]"
      ]
     },
     "execution_count": 18,
     "metadata": {},
     "output_type": "execute_result"
    }
   ],
   "source": [
    "get_sql_data(query6)"
   ]
  },
  {
   "cell_type": "markdown",
   "id": "4ebd3b1d",
   "metadata": {},
   "source": [
    "Определим издательство, которое выпустило наибольшее число книг толще 50 страниц — так мы исключим из анализа брошюры."
   ]
  },
  {
   "cell_type": "code",
   "execution_count": 19,
   "id": "2a4dd04d",
   "metadata": {},
   "outputs": [],
   "source": [
    "query7 = '''\n",
    "SELECT *\n",
    "FROM publishers\n",
    "WHERE publisher_id IN (SELECT publisher_id\n",
    "FROM books\n",
    "WHERE num_pages > 50\n",
    "GROUP BY publisher_id\n",
    "ORDER BY COUNT(book_id) DESC\n",
    "LIMIT 1)\n",
    "\n",
    "'''"
   ]
  },
  {
   "cell_type": "code",
   "execution_count": 20,
   "id": "fc20a763",
   "metadata": {},
   "outputs": [
    {
     "data": {
      "text/html": [
       "<div>\n",
       "<style scoped>\n",
       "    .dataframe tbody tr th:only-of-type {\n",
       "        vertical-align: middle;\n",
       "    }\n",
       "\n",
       "    .dataframe tbody tr th {\n",
       "        vertical-align: top;\n",
       "    }\n",
       "\n",
       "    .dataframe thead th {\n",
       "        text-align: right;\n",
       "    }\n",
       "</style>\n",
       "<table border=\"1\" class=\"dataframe\">\n",
       "  <thead>\n",
       "    <tr style=\"text-align: right;\">\n",
       "      <th></th>\n",
       "      <th>publisher_id</th>\n",
       "      <th>publisher</th>\n",
       "    </tr>\n",
       "  </thead>\n",
       "  <tbody>\n",
       "    <tr>\n",
       "      <th>0</th>\n",
       "      <td>212</td>\n",
       "      <td>Penguin Books</td>\n",
       "    </tr>\n",
       "  </tbody>\n",
       "</table>\n",
       "</div>"
      ],
      "text/plain": [
       "   publisher_id      publisher\n",
       "0           212  Penguin Books"
      ]
     },
     "execution_count": 20,
     "metadata": {},
     "output_type": "execute_result"
    }
   ],
   "source": [
    "get_sql_data(query7)"
   ]
  },
  {
   "cell_type": "markdown",
   "id": "d84916ef",
   "metadata": {},
   "source": [
    "Издательство Penguin Books выпустило наибольшее число книг."
   ]
  },
  {
   "cell_type": "markdown",
   "id": "6ea63b54",
   "metadata": {},
   "source": [
    "Определим автора с самой высокой средней оценкой книг, учитывая только книги с 50 и более оценками"
   ]
  },
  {
   "cell_type": "code",
   "execution_count": 27,
   "id": "83b676fd",
   "metadata": {},
   "outputs": [],
   "source": [
    "query8= '''\n",
    "WITH s1 AS (SELECT b.author_id,\n",
    "AVG(r.rating)\n",
    "FROM ratings AS r\n",
    "JOIN books AS b ON r.book_id = b.book_id\n",
    "WHERE r.book_id IN (SELECT book_id\n",
    "                    FROM ratings\n",
    "                    GROUP BY book_id\n",
    "                    HAVING COUNT(rating_id)>50)\n",
    "GROUP BY b.author_id\n",
    "ORDER BY avg DESC)\n",
    "SELECT s1.author_id,\n",
    "a.author\n",
    "FROM s1 JOIN authors AS a ON s1.author_id = a.author_id\n",
    "ORDER BY (avg) DESC\n",
    "LIMIT 1\n",
    "'''"
   ]
  },
  {
   "cell_type": "code",
   "execution_count": 28,
   "id": "935482b5",
   "metadata": {},
   "outputs": [
    {
     "data": {
      "text/html": [
       "<div>\n",
       "<style scoped>\n",
       "    .dataframe tbody tr th:only-of-type {\n",
       "        vertical-align: middle;\n",
       "    }\n",
       "\n",
       "    .dataframe tbody tr th {\n",
       "        vertical-align: top;\n",
       "    }\n",
       "\n",
       "    .dataframe thead th {\n",
       "        text-align: right;\n",
       "    }\n",
       "</style>\n",
       "<table border=\"1\" class=\"dataframe\">\n",
       "  <thead>\n",
       "    <tr style=\"text-align: right;\">\n",
       "      <th></th>\n",
       "      <th>author_id</th>\n",
       "      <th>author</th>\n",
       "    </tr>\n",
       "  </thead>\n",
       "  <tbody>\n",
       "    <tr>\n",
       "      <th>0</th>\n",
       "      <td>236</td>\n",
       "      <td>J.K. Rowling/Mary GrandPré</td>\n",
       "    </tr>\n",
       "  </tbody>\n",
       "</table>\n",
       "</div>"
      ],
      "text/plain": [
       "   author_id                      author\n",
       "0        236  J.K. Rowling/Mary GrandPré"
      ]
     },
     "execution_count": 28,
     "metadata": {},
     "output_type": "execute_result"
    }
   ],
   "source": [
    "get_sql_data(query8)"
   ]
  },
  {
   "cell_type": "markdown",
   "id": "1140ea41",
   "metadata": {},
   "source": [
    "J.K. Rowling/Mary GrandPré - автор с самой высокой средней оценкой книг."
   ]
  },
  {
   "cell_type": "markdown",
   "id": "1f21192e",
   "metadata": {},
   "source": [
    "Посчитаем среднее количество обзоров от пользователей, которые поставили больше 48 оценок."
   ]
  },
  {
   "cell_type": "code",
   "execution_count": 23,
   "id": "761da7a6",
   "metadata": {},
   "outputs": [],
   "source": [
    "query9 = '''\n",
    "WITH \n",
    "s1 AS (SELECT username,\n",
    "(COUNT(review_id))\n",
    "FROM reviews\n",
    "WHERE username IN (SELECT username\n",
    "                   FROM ratings\n",
    "                   GROUP BY username\n",
    "                   HAVING COUNT(rating_id) > 48)\n",
    "GROUP BY username )\n",
    "SELECT AVG(count)\n",
    "FROM s1 \n",
    "'''"
   ]
  },
  {
   "cell_type": "code",
   "execution_count": 24,
   "id": "1b7064f1",
   "metadata": {},
   "outputs": [
    {
     "data": {
      "text/html": [
       "<div>\n",
       "<style scoped>\n",
       "    .dataframe tbody tr th:only-of-type {\n",
       "        vertical-align: middle;\n",
       "    }\n",
       "\n",
       "    .dataframe tbody tr th {\n",
       "        vertical-align: top;\n",
       "    }\n",
       "\n",
       "    .dataframe thead th {\n",
       "        text-align: right;\n",
       "    }\n",
       "</style>\n",
       "<table border=\"1\" class=\"dataframe\">\n",
       "  <thead>\n",
       "    <tr style=\"text-align: right;\">\n",
       "      <th></th>\n",
       "      <th>avg</th>\n",
       "    </tr>\n",
       "  </thead>\n",
       "  <tbody>\n",
       "    <tr>\n",
       "      <th>0</th>\n",
       "      <td>24.0</td>\n",
       "    </tr>\n",
       "  </tbody>\n",
       "</table>\n",
       "</div>"
      ],
      "text/plain": [
       "    avg\n",
       "0  24.0"
      ]
     },
     "execution_count": 24,
     "metadata": {},
     "output_type": "execute_result"
    }
   ],
   "source": [
    "get_sql_data(query9)"
   ]
  },
  {
   "cell_type": "markdown",
   "id": "03ebe3a0",
   "metadata": {},
   "source": [
    "В среднем пользователи, которые поставили больше 48 оценок давали 24 обзора."
   ]
  },
  {
   "cell_type": "markdown",
   "id": "6b1911f9",
   "metadata": {},
   "source": [
    "### Шаг 4. Вывод"
   ]
  },
  {
   "cell_type": "markdown",
   "id": "c5ca4224",
   "metadata": {},
   "source": [
    "1. После 1 января 2000 года вышло 819 книг.\n",
    "2. Для каждой книги посчитаны количество обзоров и средняя оценка\n",
    "3. Издательство Penguin Books выпустило наибольшее число книг.\n",
    "4. J.K. Rowling/Mary GrandPré - автор с самой высокой средней оценкой книг.\n",
    "5. В среднем пользователи, которые поставили больше 48 оценок давали 24 обзора."
   ]
  },
  {
   "cell_type": "code",
   "execution_count": null,
   "id": "08ce5cb2",
   "metadata": {},
   "outputs": [],
   "source": []
  }
 ],
 "metadata": {
  "ExecuteTimeLog": [
   {
    "duration": 590,
    "start_time": "2024-07-12T03:27:07.255Z"
   },
   {
    "duration": 4,
    "start_time": "2024-07-12T03:27:07.847Z"
   },
   {
    "duration": 8023,
    "start_time": "2024-07-12T03:27:07.852Z"
   },
   {
    "duration": 4,
    "start_time": "2024-07-12T03:27:15.877Z"
   },
   {
    "duration": 237,
    "start_time": "2024-07-12T03:27:15.883Z"
   },
   {
    "duration": 49,
    "start_time": "2024-07-12T03:27:16.122Z"
   },
   {
    "duration": 49,
    "start_time": "2024-07-12T03:27:16.173Z"
   },
   {
    "duration": 50,
    "start_time": "2024-07-12T03:27:16.224Z"
   },
   {
    "duration": 50,
    "start_time": "2024-07-12T03:27:16.275Z"
   },
   {
    "duration": 49,
    "start_time": "2024-07-12T03:27:16.327Z"
   },
   {
    "duration": 50,
    "start_time": "2024-07-12T03:27:16.378Z"
   },
   {
    "duration": 50,
    "start_time": "2024-07-12T03:27:16.430Z"
   },
   {
    "duration": 52,
    "start_time": "2024-07-12T03:27:16.482Z"
   },
   {
    "duration": 50,
    "start_time": "2024-07-12T03:27:16.536Z"
   },
   {
    "duration": 3,
    "start_time": "2024-07-12T03:27:16.588Z"
   },
   {
    "duration": 55,
    "start_time": "2024-07-12T03:27:16.592Z"
   },
   {
    "duration": 4,
    "start_time": "2024-07-12T03:27:16.649Z"
   },
   {
    "duration": 102,
    "start_time": "2024-07-12T03:27:16.654Z"
   },
   {
    "duration": 3,
    "start_time": "2024-07-12T03:27:16.758Z"
   },
   {
    "duration": 56,
    "start_time": "2024-07-12T03:27:16.763Z"
   },
   {
    "duration": 4,
    "start_time": "2024-07-12T03:27:16.821Z"
   },
   {
    "duration": 55,
    "start_time": "2024-07-12T03:27:16.827Z"
   },
   {
    "duration": 3,
    "start_time": "2024-07-12T03:27:16.884Z"
   },
   {
    "duration": 62,
    "start_time": "2024-07-12T03:27:16.889Z"
   },
   {
    "duration": 3,
    "start_time": "2024-07-12T03:29:47.175Z"
   },
   {
    "duration": 157,
    "start_time": "2024-07-12T03:29:48.361Z"
   },
   {
    "duration": 4,
    "start_time": "2024-07-12T03:30:02.291Z"
   },
   {
    "duration": 62,
    "start_time": "2024-07-12T03:30:03.316Z"
   },
   {
    "duration": 4,
    "start_time": "2024-07-12T03:36:33.835Z"
   },
   {
    "duration": 72,
    "start_time": "2024-07-12T03:36:34.987Z"
   },
   {
    "duration": 3,
    "start_time": "2024-07-12T03:36:42.753Z"
   },
   {
    "duration": 61,
    "start_time": "2024-07-12T03:36:43.760Z"
   },
   {
    "duration": 3,
    "start_time": "2024-07-12T03:36:54.410Z"
   },
   {
    "duration": 54,
    "start_time": "2024-07-12T03:36:55.490Z"
   },
   {
    "duration": 3,
    "start_time": "2024-07-12T03:37:02.529Z"
   },
   {
    "duration": 52,
    "start_time": "2024-07-12T03:37:03.603Z"
   },
   {
    "duration": 499,
    "start_time": "2024-07-12T17:43:56.480Z"
   },
   {
    "duration": 3,
    "start_time": "2024-07-12T17:43:56.981Z"
   },
   {
    "duration": 7370,
    "start_time": "2024-07-12T17:43:56.986Z"
   },
   {
    "duration": 4,
    "start_time": "2024-07-12T17:44:04.359Z"
   },
   {
    "duration": 265,
    "start_time": "2024-07-12T17:44:04.365Z"
   },
   {
    "duration": 51,
    "start_time": "2024-07-12T17:44:04.632Z"
   },
   {
    "duration": 52,
    "start_time": "2024-07-12T17:44:04.684Z"
   },
   {
    "duration": 50,
    "start_time": "2024-07-12T17:44:04.738Z"
   },
   {
    "duration": 52,
    "start_time": "2024-07-12T17:44:04.790Z"
   },
   {
    "duration": 51,
    "start_time": "2024-07-12T17:44:04.844Z"
   },
   {
    "duration": 53,
    "start_time": "2024-07-12T17:44:04.896Z"
   },
   {
    "duration": 51,
    "start_time": "2024-07-12T17:44:04.951Z"
   },
   {
    "duration": 52,
    "start_time": "2024-07-12T17:44:05.004Z"
   },
   {
    "duration": 51,
    "start_time": "2024-07-12T17:44:05.057Z"
   },
   {
    "duration": 2,
    "start_time": "2024-07-12T17:44:05.110Z"
   },
   {
    "duration": 64,
    "start_time": "2024-07-12T17:44:05.114Z"
   },
   {
    "duration": 2,
    "start_time": "2024-07-12T17:44:05.179Z"
   },
   {
    "duration": 95,
    "start_time": "2024-07-12T17:44:05.183Z"
   },
   {
    "duration": 2,
    "start_time": "2024-07-12T17:44:05.280Z"
   },
   {
    "duration": 71,
    "start_time": "2024-07-12T17:44:05.283Z"
   },
   {
    "duration": 3,
    "start_time": "2024-07-12T17:44:05.356Z"
   },
   {
    "duration": 85,
    "start_time": "2024-07-12T17:44:05.360Z"
   },
   {
    "duration": 2,
    "start_time": "2024-07-12T17:44:05.446Z"
   },
   {
    "duration": 60,
    "start_time": "2024-07-12T17:44:05.450Z"
   },
   {
    "duration": 2,
    "start_time": "2024-07-12T17:44:31.212Z"
   },
   {
    "duration": 58,
    "start_time": "2024-07-12T17:44:32.212Z"
   },
   {
    "duration": 2,
    "start_time": "2024-07-12T17:44:36.659Z"
   },
   {
    "duration": 55,
    "start_time": "2024-07-12T17:44:37.478Z"
   }
  ],
  "kernelspec": {
   "display_name": "Python 3 (ipykernel)",
   "language": "python",
   "name": "python3"
  },
  "language_info": {
   "codemirror_mode": {
    "name": "ipython",
    "version": 3
   },
   "file_extension": ".py",
   "mimetype": "text/x-python",
   "name": "python",
   "nbconvert_exporter": "python",
   "pygments_lexer": "ipython3",
   "version": "3.9.18"
  },
  "toc": {
   "base_numbering": 1,
   "nav_menu": {},
   "number_sections": true,
   "sideBar": true,
   "skip_h1_title": true,
   "title_cell": "Table of Contents",
   "title_sidebar": "Contents",
   "toc_cell": false,
   "toc_position": {},
   "toc_section_display": true,
   "toc_window_display": false
  }
 },
 "nbformat": 4,
 "nbformat_minor": 5
}
